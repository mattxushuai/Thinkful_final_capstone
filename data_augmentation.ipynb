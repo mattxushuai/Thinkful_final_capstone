{
 "cells": [
  {
   "cell_type": "code",
   "execution_count": 1,
   "metadata": {},
   "outputs": [
    {
     "name": "stderr",
     "output_type": "stream",
     "text": [
      "Using TensorFlow backend.\n"
     ]
    }
   ],
   "source": [
    "import pandas as pd\n",
    "import matplotlib.pyplot as plt\n",
    "import seaborn as sns\n",
    "import numpy as np\n",
    "%matplotlib inline\n",
    "import glob\n",
    "from keras.preprocessing.image import ImageDataGenerator, array_to_img, img_to_array, load_img\n",
    "import os"
   ]
  },
  {
   "cell_type": "code",
   "execution_count": 2,
   "metadata": {},
   "outputs": [],
   "source": [
    "if not os.path.exists('JPEGImages'):\n",
    "    raise Exception('No JPEGImages folder found')"
   ]
  },
  {
   "cell_type": "code",
   "execution_count": 3,
   "metadata": {},
   "outputs": [],
   "source": [
    "if not os.path.isfile('labels.csv'):\n",
    "    raise Exception('No labels.csv file found')"
   ]
  },
  {
   "cell_type": "code",
   "execution_count": 4,
   "metadata": {},
   "outputs": [],
   "source": [
    "label = pd.read_csv('labels.csv')"
   ]
  },
  {
   "cell_type": "code",
   "execution_count": 6,
   "metadata": {},
   "outputs": [],
   "source": [
    "label = label[['Image','Category']]"
   ]
  },
  {
   "cell_type": "code",
   "execution_count": 7,
   "metadata": {},
   "outputs": [
    {
     "data": {
      "text/html": [
       "<div>\n",
       "<style scoped>\n",
       "    .dataframe tbody tr th:only-of-type {\n",
       "        vertical-align: middle;\n",
       "    }\n",
       "\n",
       "    .dataframe tbody tr th {\n",
       "        vertical-align: top;\n",
       "    }\n",
       "\n",
       "    .dataframe thead th {\n",
       "        text-align: right;\n",
       "    }\n",
       "</style>\n",
       "<table border=\"1\" class=\"dataframe\">\n",
       "  <thead>\n",
       "    <tr style=\"text-align: right;\">\n",
       "      <th></th>\n",
       "      <th>Image</th>\n",
       "      <th>Category</th>\n",
       "    </tr>\n",
       "  </thead>\n",
       "  <tbody>\n",
       "    <tr>\n",
       "      <th>0</th>\n",
       "      <td>0</td>\n",
       "      <td>NEUTROPHIL</td>\n",
       "    </tr>\n",
       "    <tr>\n",
       "      <th>1</th>\n",
       "      <td>1</td>\n",
       "      <td>NEUTROPHIL</td>\n",
       "    </tr>\n",
       "    <tr>\n",
       "      <th>2</th>\n",
       "      <td>2</td>\n",
       "      <td>NEUTROPHIL</td>\n",
       "    </tr>\n",
       "    <tr>\n",
       "      <th>3</th>\n",
       "      <td>3</td>\n",
       "      <td>NEUTROPHIL</td>\n",
       "    </tr>\n",
       "    <tr>\n",
       "      <th>4</th>\n",
       "      <td>4</td>\n",
       "      <td>NEUTROPHIL</td>\n",
       "    </tr>\n",
       "  </tbody>\n",
       "</table>\n",
       "</div>"
      ],
      "text/plain": [
       "   Image    Category\n",
       "0      0  NEUTROPHIL\n",
       "1      1  NEUTROPHIL\n",
       "2      2  NEUTROPHIL\n",
       "3      3  NEUTROPHIL\n",
       "4      4  NEUTROPHIL"
      ]
     },
     "execution_count": 7,
     "metadata": {},
     "output_type": "execute_result"
    }
   ],
   "source": [
    "label.head()"
   ]
  },
  {
   "cell_type": "code",
   "execution_count": 8,
   "metadata": {},
   "outputs": [
    {
     "data": {
      "text/plain": [
       "NEUTROPHIL                207\n",
       "EOSINOPHIL                 88\n",
       "LYMPHOCYTE                 33\n",
       "MONOCYTE                   21\n",
       "BASOPHIL                    3\n",
       "NEUTROPHIL, NEUTROPHIL      3\n",
       "NEUTROPHIL, EOSINOPHIL      2\n",
       "LYMPHOCYTE, LYMPHOCYTE      1\n",
       "NEUTROPHIL,NEUTROPHIL       1\n",
       "MONOCYTE, LYMPHOCYTE        1\n",
       "EOSINOPHIL,EOSINOPHIL       1\n",
       "NEUTROPHIL, LYMPHOCYTE      1\n",
       "NEUTROPHIL,BASOPHIL         1\n",
       "EOSINOPHIL, EOSINOPHIL      1\n",
       "NEUTROPHIL,EOSINOPHIL       1\n",
       "NEUTROPHIL, MONOCYTE        1\n",
       "EOSINOPHIL, LYMPHOCYTE      1\n",
       "Name: Category, dtype: int64"
      ]
     },
     "execution_count": 8,
     "metadata": {},
     "output_type": "execute_result"
    }
   ],
   "source": [
    "label.Category.value_counts()"
   ]
  },
  {
   "cell_type": "code",
   "execution_count": 9,
   "metadata": {},
   "outputs": [
    {
     "name": "stdout",
     "output_type": "stream",
     "text": [
      "<class 'pandas.core.frame.DataFrame'>\n",
      "RangeIndex: 411 entries, 0 to 410\n",
      "Data columns (total 2 columns):\n",
      "Image       411 non-null int64\n",
      "Category    367 non-null object\n",
      "dtypes: int64(1), object(1)\n",
      "memory usage: 6.5+ KB\n"
     ]
    }
   ],
   "source": [
    "label.info()"
   ]
  },
  {
   "cell_type": "code",
   "execution_count": 11,
   "metadata": {},
   "outputs": [
    {
     "data": {
      "text/plain": [
       "44"
      ]
     },
     "execution_count": 11,
     "metadata": {},
     "output_type": "execute_result"
    }
   ],
   "source": [
    "label.Category.isnull().sum()\n",
    "# There are 44 rows without labels, we need to clean this."
   ]
  },
  {
   "cell_type": "code",
   "execution_count": 13,
   "metadata": {},
   "outputs": [],
   "source": [
    "#Removing rows without labels\n",
    "label_clean = label[label.Category.notnull()]"
   ]
  },
  {
   "cell_type": "code",
   "execution_count": 14,
   "metadata": {},
   "outputs": [],
   "source": [
    "# Creating classes, getting rid of pictures with more than one subtype of wbc, and basophil\n",
    "classes = list(label.Category.value_counts().head(4).index)"
   ]
  },
  {
   "cell_type": "code",
   "execution_count": 16,
   "metadata": {},
   "outputs": [
    {
     "name": "stderr",
     "output_type": "stream",
     "text": [
      "C:\\Users\\shuaix\\anaconda3\\lib\\site-packages\\ipykernel_launcher.py:1: SettingWithCopyWarning: \n",
      "A value is trying to be set on a copy of a slice from a DataFrame.\n",
      "Try using .loc[row_indexer,col_indexer] = value instead\n",
      "\n",
      "See the caveats in the documentation: http://pandas.pydata.org/pandas-docs/stable/indexing.html#indexing-view-versus-copy\n",
      "  \"\"\"Entry point for launching an IPython kernel.\n"
     ]
    }
   ],
   "source": [
    "label_clean['classes'] = label_clean.Category.apply(lambda x: x in classes)"
   ]
  },
  {
   "cell_type": "code",
   "execution_count": 17,
   "metadata": {},
   "outputs": [],
   "source": [
    "label_clean = label_clean[label_clean.classes == True]"
   ]
  },
  {
   "cell_type": "code",
   "execution_count": 19,
   "metadata": {},
   "outputs": [
    {
     "data": {
      "image/png": "[encoded data removed]",
      "text/plain": [
       "<Figure size 432x288 with 1 Axes>"
      ]
     },
     "metadata": {
      "needs_background": "light"
     },
     "output_type": "display_data"
    }
   ],
   "source": [
    "sns.countplot(data = label_clean, x = 'Category')\n",
    "plt.show()"
   ]
  },
  {
   "cell_type": "code",
   "execution_count": 23,
   "metadata": {},
   "outputs": [],
   "source": [
    "# writing function that creates the path to the file, so image column matches the image file name\n",
    "def to_str(image_number):\n",
    "    sn = str(image_number)\n",
    "    if len(sn) == 1:\n",
    "        return 'JPEGImages/BloodImage_0000'+sn+'.jpg'\n",
    "    if len(sn) == 2:\n",
    "        return 'JPEGImages/BloodImage_000'+sn+'.jpg'\n",
    "    else:\n",
    "        return 'JPEGImages/BloodImage_00'+sn+'.jpg'"
   ]
  },
  {
   "cell_type": "code",
   "execution_count": 24,
   "metadata": {},
   "outputs": [],
   "source": [
    "label_clean['ImagePath'] = label_clean.Image.apply(to_str)"
   ]
  },
  {
   "cell_type": "code",
   "execution_count": 26,
   "metadata": {},
   "outputs": [],
   "source": [
    "imgdf = label_clean[['ImagePath','Category']]"
   ]
  },
  {
   "cell_type": "code",
   "execution_count": 27,
   "metadata": {},
   "outputs": [
    {
     "name": "stdout",
     "output_type": "stream",
     "text": [
      "<class 'pandas.core.frame.DataFrame'>\n",
      "Int64Index: 349 entries, 0 to 410\n",
      "Data columns (total 2 columns):\n",
      "ImagePath    349 non-null object\n",
      "Category     349 non-null object\n",
      "dtypes: object(2)\n",
      "memory usage: 18.2+ KB\n"
     ]
    }
   ],
   "source": [
    "imgdf.info()"
   ]
  },
  {
   "cell_type": "code",
   "execution_count": 28,
   "metadata": {},
   "outputs": [
    {
     "data": {
      "text/html": [
       "<div>\n",
       "<style scoped>\n",
       "    .dataframe tbody tr th:only-of-type {\n",
       "        vertical-align: middle;\n",
       "    }\n",
       "\n",
       "    .dataframe tbody tr th {\n",
       "        vertical-align: top;\n",
       "    }\n",
       "\n",
       "    .dataframe thead th {\n",
       "        text-align: right;\n",
       "    }\n",
       "</style>\n",
       "<table border=\"1\" class=\"dataframe\">\n",
       "  <thead>\n",
       "    <tr style=\"text-align: right;\">\n",
       "      <th></th>\n",
       "      <th>ImagePath</th>\n",
       "      <th>Category</th>\n",
       "    </tr>\n",
       "  </thead>\n",
       "  <tbody>\n",
       "    <tr>\n",
       "      <th>0</th>\n",
       "      <td>JPEGImages/BloodImage_00000.jpg</td>\n",
       "      <td>NEUTROPHIL</td>\n",
       "    </tr>\n",
       "    <tr>\n",
       "      <th>1</th>\n",
       "      <td>JPEGImages/BloodImage_00001.jpg</td>\n",
       "      <td>NEUTROPHIL</td>\n",
       "    </tr>\n",
       "    <tr>\n",
       "      <th>2</th>\n",
       "      <td>JPEGImages/BloodImage_00002.jpg</td>\n",
       "      <td>NEUTROPHIL</td>\n",
       "    </tr>\n",
       "    <tr>\n",
       "      <th>3</th>\n",
       "      <td>JPEGImages/BloodImage_00003.jpg</td>\n",
       "      <td>NEUTROPHIL</td>\n",
       "    </tr>\n",
       "    <tr>\n",
       "      <th>4</th>\n",
       "      <td>JPEGImages/BloodImage_00004.jpg</td>\n",
       "      <td>NEUTROPHIL</td>\n",
       "    </tr>\n",
       "  </tbody>\n",
       "</table>\n",
       "</div>"
      ],
      "text/plain": [
       "                         ImagePath    Category\n",
       "0  JPEGImages/BloodImage_00000.jpg  NEUTROPHIL\n",
       "1  JPEGImages/BloodImage_00001.jpg  NEUTROPHIL\n",
       "2  JPEGImages/BloodImage_00002.jpg  NEUTROPHIL\n",
       "3  JPEGImages/BloodImage_00003.jpg  NEUTROPHIL\n",
       "4  JPEGImages/BloodImage_00004.jpg  NEUTROPHIL"
      ]
     },
     "execution_count": 28,
     "metadata": {},
     "output_type": "execute_result"
    }
   ],
   "source": [
    "imgdf.head()"
   ]
  },
  {
   "cell_type": "code",
   "execution_count": 29,
   "metadata": {
    "scrolled": false
   },
   "outputs": [
    {
     "name": "stderr",
     "output_type": "stream",
     "text": [
      "C:\\Users\\shuaix\\anaconda3\\lib\\site-packages\\pandas\\core\\frame.py:3940: SettingWithCopyWarning: \n",
      "A value is trying to be set on a copy of a slice from a DataFrame\n",
      "\n",
      "See the caveats in the documentation: http://pandas.pydata.org/pandas-docs/stable/indexing.html#indexing-view-versus-copy\n",
      "  errors=errors)\n"
     ]
    }
   ],
   "source": [
    "# removing dead paths (images not in the dataset)\n",
    "imgdf.drop(index=[280],inplace = True)\n",
    "imgdf.drop(index=[116],inplace = True)"
   ]
  },
  {
   "cell_type": "code",
   "execution_count": 30,
   "metadata": {},
   "outputs": [],
   "source": [
    "#importing the paths of all images in the dataset\n",
    "images =list(glob.glob(\"JPEGImages/*.jpg\"))"
   ]
  },
  {
   "cell_type": "code",
   "execution_count": 31,
   "metadata": {},
   "outputs": [],
   "source": [
    "#creating folders for classes\n",
    "folders = ['NEUTROPHIL','MONOCYTE','EOSINOPHIL','LYMPHOCYTE']\n",
    "for folder in folders:\n",
    "    if not os.path.exists(folder):\n",
    "        os.makedirs(folder)"
   ]
  },
  {
   "cell_type": "code",
   "execution_count": 32,
   "metadata": {},
   "outputs": [],
   "source": [
    "# renaming images and saving them to seperate folders\n",
    "# create folders in the same directory as this notebook:\n",
    " \n",
    "from PIL import Image\n",
    "for subtype in classes:\n",
    "    for path in list(imgdf.ImagePath[imgdf.Category == subtype].values):\n",
    "        img  = Image.open(path)\n",
    "        img.save('{}/{}_{}'.format(subtype,subtype,path[-7:]))"
   ]
  },
  {
   "cell_type": "code",
   "execution_count": 34,
   "metadata": {},
   "outputs": [],
   "source": [
    "datagen = ImageDataGenerator(\n",
    "        rotation_range=40,\n",
    "        width_shift_range=0.2,\n",
    "        height_shift_range=0.2,\n",
    "        shear_range=0.2,\n",
    "        zoom_range=0.2,\n",
    "        horizontal_flip=True, vertical_flip = True,\n",
    "        fill_mode='constant')"
   ]
  },
  {
   "cell_type": "code",
   "execution_count": 35,
   "metadata": {},
   "outputs": [],
   "source": [
    "neutro = list(glob.glob(\"NEUTROPHIL/*.jpg\"))\n",
    "eosino = list(glob.glob(\"EOSINOPHIL/*.jpg\"))\n",
    "mono = list(glob.glob(\"MONOCYTE/*.jpg\"))\n",
    "lympho = list(glob.glob(\"LYMPHOCYTE/*.jpg\"))"
   ]
  },
  {
   "cell_type": "code",
   "execution_count": 36,
   "metadata": {},
   "outputs": [],
   "source": [
    "#create folder for transformation\n",
    "if not os.path.exists('transformed'):\n",
    "        os.makedirs('transformed')"
   ]
  },
  {
   "cell_type": "code",
   "execution_count": 37,
   "metadata": {},
   "outputs": [],
   "source": [
    "# number of iterations\n",
    "n_it = 15\n",
    "e_it = 36\n",
    "l_it = 96\n",
    "m_it= 180"
   ]
  },
  {
   "cell_type": "code",
   "execution_count": 42,
   "metadata": {},
   "outputs": [],
   "source": [
    "#image augumantion for neutrophils\n",
    "for path in neutro:\n",
    "    img = load_img(path)  # this is a PIL image\n",
    "    x = img_to_array(img)  # this is a Numpy array with shape (3, width, height)\n",
    "    x = x.reshape((1,) + x.shape)\n",
    "    i = 0\n",
    "    for batch in datagen.flow(x, batch_size=1,\n",
    "                              save_to_dir='transformed/NEUTROPHIL', save_prefix='aug_neu_', save_format='jpeg'):\n",
    "        i += 1\n",
    "        if i > n_it:\n",
    "            break  "
   ]
  },
  {
   "cell_type": "code",
   "execution_count": 43,
   "metadata": {},
   "outputs": [],
   "source": [
    "#image augumantion for eosinophils\n",
    "for path in eosino:\n",
    "    img = load_img(path)  # this is a PIL image\n",
    "    x = img_to_array(img)  # this is a Numpy array with shape (3, width, height)\n",
    "    x = x.reshape((1,) + x.shape)\n",
    "    i = 0\n",
    "    for batch in datagen.flow(x, batch_size=1,\n",
    "                              save_to_dir='transformed/EOSINOPHIL', save_prefix='aug_eos_', save_format='jpeg'):\n",
    "        i += 1\n",
    "        if i > e_it:\n",
    "            break"
   ]
  },
  {
   "cell_type": "code",
   "execution_count": 44,
   "metadata": {},
   "outputs": [],
   "source": [
    "#image augumantion for lymphocites\n",
    "for path in lympho:\n",
    "    img = load_img(path)  # this is a PIL image\n",
    "    x = img_to_array(img)  # this is a Numpy array with shape (3, width, height)\n",
    "    x = x.reshape((1,) + x.shape)\n",
    "    i = 0\n",
    "    for batch in datagen.flow(x, batch_size=1,\n",
    "                              save_to_dir='transformed/LYMPHOCYTE', save_prefix='aug_lym_', save_format='jpeg'):\n",
    "        i += 1\n",
    "        if i > l_it:\n",
    "            break  "
   ]
  },
  {
   "cell_type": "code",
   "execution_count": 45,
   "metadata": {},
   "outputs": [],
   "source": [
    "#image augumantion for monocites\n",
    "for path in mono:\n",
    "    img = load_img(path)  # this is a PIL image\n",
    "    x = img_to_array(img)  # this is a Numpy array with shape (3, width, height)\n",
    "    x = x.reshape((1,) + x.shape)\n",
    "    i = 0\n",
    "    for batch in datagen.flow(x, batch_size=1,\n",
    "                              save_to_dir='transformed/MONOCYTE', save_prefix='aug_mon_', save_format='jpeg'):\n",
    "        i += 1\n",
    "        if i > m_it:\n",
    "            break  "
   ]
  },
  {
   "cell_type": "code",
   "execution_count": 46,
   "metadata": {},
   "outputs": [],
   "source": [
    "img_aug = pd.DataFrame([n_it*len(neutro),m_it*len(mono),l_it*len(lympho),e_it*len(eosino)], index =[\"NEUTROPHIL\",'MONOCYTE','LYMPHOCYTE','EOSINOPHIL'],columns=['count'])"
   ]
  },
  {
   "cell_type": "code",
   "execution_count": 48,
   "metadata": {},
   "outputs": [
    {
     "data": {
      "text/html": [
       "<div>\n",
       "<style scoped>\n",
       "    .dataframe tbody tr th:only-of-type {\n",
       "        vertical-align: middle;\n",
       "    }\n",
       "\n",
       "    .dataframe tbody tr th {\n",
       "        vertical-align: top;\n",
       "    }\n",
       "\n",
       "    .dataframe thead th {\n",
       "        text-align: right;\n",
       "    }\n",
       "</style>\n",
       "<table border=\"1\" class=\"dataframe\">\n",
       "  <thead>\n",
       "    <tr style=\"text-align: right;\">\n",
       "      <th></th>\n",
       "      <th>count</th>\n",
       "    </tr>\n",
       "  </thead>\n",
       "  <tbody>\n",
       "    <tr>\n",
       "      <th>NEUTROPHIL</th>\n",
       "      <td>3090</td>\n",
       "    </tr>\n",
       "    <tr>\n",
       "      <th>MONOCYTE</th>\n",
       "      <td>3600</td>\n",
       "    </tr>\n",
       "    <tr>\n",
       "      <th>LYMPHOCYTE</th>\n",
       "      <td>3168</td>\n",
       "    </tr>\n",
       "    <tr>\n",
       "      <th>EOSINOPHIL</th>\n",
       "      <td>3168</td>\n",
       "    </tr>\n",
       "  </tbody>\n",
       "</table>\n",
       "</div>"
      ],
      "text/plain": [
       "            count\n",
       "NEUTROPHIL   3090\n",
       "MONOCYTE     3600\n",
       "LYMPHOCYTE   3168\n",
       "EOSINOPHIL   3168"
      ]
     },
     "execution_count": 48,
     "metadata": {},
     "output_type": "execute_result"
    }
   ],
   "source": [
    "img_aug"
   ]
  },
  {
   "cell_type": "code",
   "execution_count": 52,
   "metadata": {},
   "outputs": [
    {
     "data": {
      "text/html": [
       "<div>\n",
       "<style scoped>\n",
       "    .dataframe tbody tr th:only-of-type {\n",
       "        vertical-align: middle;\n",
       "    }\n",
       "\n",
       "    .dataframe tbody tr th {\n",
       "        vertical-align: top;\n",
       "    }\n",
       "\n",
       "    .dataframe thead th {\n",
       "        text-align: right;\n",
       "    }\n",
       "</style>\n",
       "<table border=\"1\" class=\"dataframe\">\n",
       "  <thead>\n",
       "    <tr style=\"text-align: right;\">\n",
       "      <th></th>\n",
       "      <th>count</th>\n",
       "    </tr>\n",
       "  </thead>\n",
       "  <tbody>\n",
       "    <tr>\n",
       "      <th>NEUTROPHIL</th>\n",
       "      <td>3090</td>\n",
       "    </tr>\n",
       "    <tr>\n",
       "      <th>MONOCYTE</th>\n",
       "      <td>3600</td>\n",
       "    </tr>\n",
       "    <tr>\n",
       "      <th>LYMPHOCYTE</th>\n",
       "      <td>3168</td>\n",
       "    </tr>\n",
       "    <tr>\n",
       "      <th>EOSINOPHIL</th>\n",
       "      <td>3168</td>\n",
       "    </tr>\n",
       "  </tbody>\n",
       "</table>\n",
       "</div>"
      ],
      "text/plain": [
       "            count\n",
       "NEUTROPHIL   3090\n",
       "MONOCYTE     3600\n",
       "LYMPHOCYTE   3168\n",
       "EOSINOPHIL   3168"
      ]
     },
     "execution_count": 52,
     "metadata": {},
     "output_type": "execute_result"
    }
   ],
   "source": [
    "img_aug"
   ]
  },
  {
   "cell_type": "code",
   "execution_count": null,
   "metadata": {},
   "outputs": [],
   "source": []
  }
 ],
 "metadata": {
  "kernelspec": {
   "display_name": "Python 3",
   "language": "python",
   "name": "python3"
  },
  "language_info": {
   "codemirror_mode": {
    "name": "ipython",
    "version": 3
   },
   "file_extension": ".py",
   "mimetype": "text/x-python",
   "name": "python",
   "nbconvert_exporter": "python",
   "pygments_lexer": "ipython3",
   "version": "3.7.3"
  }
 },
 "nbformat": 4,
 "nbformat_minor": 2
}
