{
 "cells": [
  {
   "cell_type": "code",
   "execution_count": 1,
   "metadata": {},
   "outputs": [
    {
     "name": "stderr",
     "output_type": "stream",
     "text": [
      "Using TensorFlow backend.\n"
     ]
    }
   ],
   "source": [
    "from keras import applications\n",
    "from keras.models import Sequential, Model, load_model\n",
    "from keras.layers import Conv2D, MaxPooling2D, Activation, Dropout, Flatten, Dense, GlobalAveragePooling2D, BatchNormalization\n",
    "from keras import backend as K\n",
    "import tensorflow as tf\n",
    "from keras.callbacks import EarlyStopping, TensorBoard\n",
    "from keras.preprocessing.image import ImageDataGenerator\n",
    "from keras import optimizers\n",
    "from keras.optimizers import Adadelta, Adam, Adagrad, RMSprop\n",
    "from keras.callbacks import ModelCheckpoint, LearningRateScheduler, TensorBoard, EarlyStopping\n",
    "import os\n",
    "import matplotlib.pyplot as plt\n",
    "%matplotlib inline"
   ]
  },
  {
   "cell_type": "markdown",
   "metadata": {},
   "source": [
    "## VGG -10 Layers (150X150)"
   ]
  },
  {
   "cell_type": "code",
   "execution_count": 2,
   "metadata": {},
   "outputs": [],
   "source": [
    "img_width, img_height = 150, 150\n",
    "train_data_dir = \"C:/Users/M&D/Dropbox/Data_Science/Final_Capstone/blood-cells/dataset-master/dataset-master/data/TRAIN\"\n",
    "val_data_dir = \"C:/Users/M&D/Dropbox/Data_Science/Final_Capstone/blood-cells/dataset-master/dataset-master/data/TRAIN\"\n",
    "nb_train_samples = 5000\n",
    "nb_validation_samples = 1000 \n",
    "batch_size = 32\n",
    "epochs = 20"
   ]
  },
  {
   "cell_type": "code",
   "execution_count": 3,
   "metadata": {},
   "outputs": [
    {
     "name": "stdout",
     "output_type": "stream",
     "text": [
      "WARNING:tensorflow:From C:\\Users\\M&D\\AppData\\Roaming\\Python\\Python37\\site-packages\\tensorflow\\python\\framework\\op_def_library.py:263: colocate_with (from tensorflow.python.framework.ops) is deprecated and will be removed in a future version.\n",
      "Instructions for updating:\n",
      "Colocations handled automatically by placer.\n"
     ]
    }
   ],
   "source": [
    "model = applications.VGG16(weights = \"imagenet\", include_top=False, input_shape = (img_width, img_height, 3))"
   ]
  },
  {
   "cell_type": "code",
   "execution_count": 4,
   "metadata": {},
   "outputs": [
    {
     "name": "stdout",
     "output_type": "stream",
     "text": [
      "_________________________________________________________________\n",
      "Layer (type)                 Output Shape              Param #   \n",
      "=================================================================\n",
      "input_1 (InputLayer)         (None, 150, 150, 3)       0         \n",
      "_________________________________________________________________\n",
      "block1_conv1 (Conv2D)        (None, 150, 150, 64)      1792      \n",
      "_________________________________________________________________\n",
      "block1_conv2 (Conv2D)        (None, 150, 150, 64)      36928     \n",
      "_________________________________________________________________\n",
      "block1_pool (MaxPooling2D)   (None, 75, 75, 64)        0         \n",
      "_________________________________________________________________\n",
      "block2_conv1 (Conv2D)        (None, 75, 75, 128)       73856     \n",
      "_________________________________________________________________\n",
      "block2_conv2 (Conv2D)        (None, 75, 75, 128)       147584    \n",
      "_________________________________________________________________\n",
      "block2_pool (MaxPooling2D)   (None, 37, 37, 128)       0         \n",
      "_________________________________________________________________\n",
      "block3_conv1 (Conv2D)        (None, 37, 37, 256)       295168    \n",
      "_________________________________________________________________\n",
      "block3_conv2 (Conv2D)        (None, 37, 37, 256)       590080    \n",
      "_________________________________________________________________\n",
      "block3_conv3 (Conv2D)        (None, 37, 37, 256)       590080    \n",
      "_________________________________________________________________\n",
      "block3_pool (MaxPooling2D)   (None, 18, 18, 256)       0         \n",
      "_________________________________________________________________\n",
      "block4_conv1 (Conv2D)        (None, 18, 18, 512)       1180160   \n",
      "_________________________________________________________________\n",
      "block4_conv2 (Conv2D)        (None, 18, 18, 512)       2359808   \n",
      "_________________________________________________________________\n",
      "block4_conv3 (Conv2D)        (None, 18, 18, 512)       2359808   \n",
      "_________________________________________________________________\n",
      "block4_pool (MaxPooling2D)   (None, 9, 9, 512)         0         \n",
      "_________________________________________________________________\n",
      "block5_conv1 (Conv2D)        (None, 9, 9, 512)         2359808   \n",
      "_________________________________________________________________\n",
      "block5_conv2 (Conv2D)        (None, 9, 9, 512)         2359808   \n",
      "_________________________________________________________________\n",
      "block5_conv3 (Conv2D)        (None, 9, 9, 512)         2359808   \n",
      "_________________________________________________________________\n",
      "block5_pool (MaxPooling2D)   (None, 4, 4, 512)         0         \n",
      "=================================================================\n",
      "Total params: 14,714,688\n",
      "Trainable params: 14,714,688\n",
      "Non-trainable params: 0\n",
      "_________________________________________________________________\n"
     ]
    }
   ],
   "source": [
    "model.summary()"
   ]
  },
  {
   "cell_type": "code",
   "execution_count": 5,
   "metadata": {},
   "outputs": [],
   "source": [
    "for layer in model.layers[:10]:\n",
    "    layer.trainable = False"
   ]
  },
  {
   "cell_type": "code",
   "execution_count": 6,
   "metadata": {},
   "outputs": [
    {
     "name": "stdout",
     "output_type": "stream",
     "text": [
      "WARNING:tensorflow:From C:\\Users\\M&D\\AppData\\Roaming\\Python\\Python37\\site-packages\\keras\\backend\\tensorflow_backend.py:3445: calling dropout (from tensorflow.python.ops.nn_ops) with keep_prob is deprecated and will be removed in a future version.\n",
      "Instructions for updating:\n",
      "Please use `rate` instead of `keep_prob`. Rate should be set to `rate = 1 - keep_prob`.\n"
     ]
    }
   ],
   "source": [
    "x = model.output\n",
    "x = Flatten()(x)\n",
    "x = Dense(256, activation=\"relu\")(x)\n",
    "x = Dropout(0.5)(x)\n",
    "x = Dense(64, activation=\"relu\")(x)\n",
    "predictions = Dense(4, activation=\"softmax\")(x)"
   ]
  },
  {
   "cell_type": "code",
   "execution_count": 7,
   "metadata": {},
   "outputs": [
    {
     "name": "stderr",
     "output_type": "stream",
     "text": [
      "C:\\Users\\Matt\\anaconda3\\lib\\site-packages\\ipykernel_launcher.py:1: UserWarning: Update your `Model` call to the Keras 2 API: `Model(inputs=Tensor(\"in..., outputs=Tensor(\"de...)`\n",
      "  \"\"\"Entry point for launching an IPython kernel.\n"
     ]
    }
   ],
   "source": [
    "model_final = Model(input = model.input, output = predictions)"
   ]
  },
  {
   "cell_type": "code",
   "execution_count": 8,
   "metadata": {},
   "outputs": [],
   "source": [
    "model_final.compile(loss = \"categorical_crossentropy\", optimizer = optimizers.SGD(lr=0.0001, momentum=0.9), metrics=[\"accuracy\"])"
   ]
  },
  {
   "cell_type": "code",
   "execution_count": 13,
   "metadata": {},
   "outputs": [
    {
     "name": "stdout",
     "output_type": "stream",
     "text": [
      "Found 7087 images belonging to 4 classes.\n",
      "Found 1769 images belonging to 4 classes.\n"
     ]
    }
   ],
   "source": [
    "train_datagen = ImageDataGenerator(\n",
    "        rescale=1./255,\n",
    "        featurewise_center=False,  # set input mean to 0 over the dataset\n",
    "        samplewise_center=False,  # set each sample mean to 0\n",
    "        featurewise_std_normalization=False,  # divide inputs by std of the dataset\n",
    "        samplewise_std_normalization=False,  # divide each input by its std\n",
    "        zca_whitening=False,  # apply ZCA whitening\n",
    "        rotation_range=90,  # randomly rotate images in the range (degrees, 0 to 180)\n",
    "        width_shift_range=0.1,  # randomly shift images horizontally (fraction of total width)\n",
    "        height_shift_range=0.1,  # randomly shift images vertically (fraction of total height)\n",
    "        horizontal_flip=True,  # randomly flip images\n",
    "        vertical_flip=False,\n",
    "        validation_split=0.2)\n",
    "\n",
    "test_datagen = ImageDataGenerator(\n",
    "rescale = 1./255,\n",
    "horizontal_flip = True,\n",
    "fill_mode = \"nearest\",\n",
    "zoom_range = 0.3,\n",
    "width_shift_range = 0.3,\n",
    "height_shift_range=0.3,\n",
    "rotation_range=30)\n",
    "\n",
    "train_generator = train_datagen.flow_from_directory(\n",
    "train_data_dir,\n",
    "target_size = (img_width, img_height),\n",
    "batch_size = batch_size, \n",
    "class_mode = \"categorical\",subset='training')\n",
    "\n",
    "validation_generator = train_datagen.flow_from_directory(\n",
    "val_data_dir,\n",
    "target_size = (img_width, img_height),\n",
    "class_mode = \"categorical\",subset='validation')"
   ]
  },
  {
   "cell_type": "code",
   "execution_count": 10,
   "metadata": {},
   "outputs": [],
   "source": [
    "checkpoint = ModelCheckpoint(\"vgg16_2.h5\", monitor='val_acc', verbose=1, save_best_only=True, save_weights_only=False, mode='auto', period=1)\n",
    "early = EarlyStopping(monitor='val_acc', min_delta=0, patience=10, verbose=1, mode='auto')"
   ]
  },
  {
   "cell_type": "code",
   "execution_count": 11,
   "metadata": {},
   "outputs": [
    {
     "name": "stdout",
     "output_type": "stream",
     "text": [
      "WARNING:tensorflow:From C:\\Users\\M&D\\AppData\\Roaming\\Python\\Python37\\site-packages\\tensorflow\\python\\ops\\math_ops.py:3066: to_int32 (from tensorflow.python.ops.math_ops) is deprecated and will be removed in a future version.\n",
      "Instructions for updating:\n",
      "Use tf.cast instead.\n"
     ]
    },
    {
     "name": "stderr",
     "output_type": "stream",
     "text": [
      "C:\\Users\\Matt\\anaconda3\\lib\\site-packages\\ipykernel_launcher.py:7: UserWarning: The semantics of the Keras 2 argument `steps_per_epoch` is not the same as the Keras 1 argument `samples_per_epoch`. `steps_per_epoch` is the number of batches to draw from the generator at each epoch. Basically steps_per_epoch = samples_per_epoch/batch_size. Similarly `nb_val_samples`->`validation_steps` and `val_samples`->`steps` arguments have changed. Update your method calls accordingly.\n",
      "  import sys\n",
      "C:\\Users\\Matt\\anaconda3\\lib\\site-packages\\ipykernel_launcher.py:7: UserWarning: Update your `fit_generator` call to the Keras 2 API: `fit_generator(<keras_pre..., epochs=20, validation_data=<keras_pre..., callbacks=[<keras.ca..., steps_per_epoch=156, validation_steps=1000)`\n",
      "  import sys\n"
     ]
    },
    {
     "name": "stdout",
     "output_type": "stream",
     "text": [
      "Epoch 1/20\n",
      "156/156 [==============================] - 6623s 42s/step - loss: 1.4181 - acc: 0.2815 - val_loss: 1.3444 - val_acc: 0.3395\n",
      "\n",
      "Epoch 00001: val_acc improved from -inf to 0.33949, saving model to vgg16_2.h5\n",
      "Epoch 2/20\n",
      "156/156 [==============================] - 6613s 42s/step - loss: 1.3007 - acc: 0.3789 - val_loss: 1.1795 - val_acc: 0.4784\n",
      "\n",
      "Epoch 00002: val_acc improved from 0.33949 to 0.47841, saving model to vgg16_2.h5\n",
      "Epoch 3/20\n",
      "156/156 [==============================] - 6619s 42s/step - loss: 1.1367 - acc: 0.4947 - val_loss: 0.9723 - val_acc: 0.5862\n",
      "\n",
      "Epoch 00003: val_acc improved from 0.47841 to 0.58618, saving model to vgg16_2.h5\n",
      "Epoch 4/20\n",
      "156/156 [==============================] - 6620s 42s/step - loss: 0.9442 - acc: 0.6008 - val_loss: 0.8340 - val_acc: 0.6411\n",
      "\n",
      "Epoch 00004: val_acc improved from 0.58618 to 0.64108, saving model to vgg16_2.h5\n",
      "Epoch 5/20\n",
      "156/156 [==============================] - 6644s 43s/step - loss: 0.7804 - acc: 0.6946 - val_loss: 0.6731 - val_acc: 0.7414\n",
      "\n",
      "Epoch 00005: val_acc improved from 0.64108 to 0.74137, saving model to vgg16_2.h5\n",
      "Epoch 6/20\n",
      "156/156 [==============================] - 6617s 42s/step - loss: 0.6998 - acc: 0.7225 - val_loss: 0.6100 - val_acc: 0.7655\n",
      "\n",
      "Epoch 00006: val_acc improved from 0.74137 to 0.76550, saving model to vgg16_2.h5\n",
      "Epoch 7/20\n",
      "156/156 [==============================] - 6772s 43s/step - loss: 0.6002 - acc: 0.7686 - val_loss: 0.5247 - val_acc: 0.7933\n",
      "\n",
      "Epoch 00007: val_acc improved from 0.76550 to 0.79333, saving model to vgg16_2.h5\n",
      "Epoch 8/20\n",
      "156/156 [==============================] - 6842s 44s/step - loss: 0.5263 - acc: 0.7984 - val_loss: 0.4602 - val_acc: 0.8236\n",
      "\n",
      "Epoch 00008: val_acc improved from 0.79333 to 0.82363, saving model to vgg16_2.h5\n",
      "Epoch 9/20\n",
      "156/156 [==============================] - 6601s 42s/step - loss: 0.4729 - acc: 0.8171 - val_loss: 0.4049 - val_acc: 0.8376\n",
      "\n",
      "Epoch 00009: val_acc improved from 0.82363 to 0.83762, saving model to vgg16_2.h5\n",
      "Epoch 10/20\n",
      "156/156 [==============================] - 6625s 42s/step - loss: 0.4326 - acc: 0.8365 - val_loss: 0.4183 - val_acc: 0.8283\n",
      "\n",
      "Epoch 00010: val_acc did not improve from 0.83762\n",
      "Epoch 11/20\n",
      "156/156 [==============================] - 6605s 42s/step - loss: 0.4094 - acc: 0.8327 - val_loss: 0.3554 - val_acc: 0.8593\n",
      "\n",
      "Epoch 00011: val_acc improved from 0.83762 to 0.85927, saving model to vgg16_2.h5\n",
      "Epoch 12/20\n",
      "156/156 [==============================] - 6606s 42s/step - loss: 0.3850 - acc: 0.8473 - val_loss: 0.3340 - val_acc: 0.8666\n",
      "\n",
      "Epoch 00012: val_acc improved from 0.85927 to 0.86659, saving model to vgg16_2.h5\n",
      "Epoch 13/20\n",
      "156/156 [==============================] - 6670s 43s/step - loss: 0.3402 - acc: 0.8675 - val_loss: 0.3110 - val_acc: 0.8775\n",
      "\n",
      "Epoch 00013: val_acc improved from 0.86659 to 0.87751, saving model to vgg16_2.h5\n",
      "Epoch 14/20\n",
      "156/156 [==============================] - 6654s 43s/step - loss: 0.3118 - acc: 0.8790 - val_loss: 0.3442 - val_acc: 0.8539\n",
      "\n",
      "Epoch 00014: val_acc did not improve from 0.87751\n",
      "Epoch 15/20\n",
      "156/156 [==============================] - 6601s 42s/step - loss: 0.3140 - acc: 0.8707 - val_loss: 0.2784 - val_acc: 0.8843\n",
      "\n",
      "Epoch 00015: val_acc improved from 0.87751 to 0.88431, saving model to vgg16_2.h5\n",
      "Epoch 16/20\n",
      "156/156 [==============================] - 6514s 42s/step - loss: 0.2809 - acc: 0.8852 - val_loss: 0.3078 - val_acc: 0.8770\n",
      "\n",
      "Epoch 00016: val_acc did not improve from 0.88431\n",
      "Epoch 17/20\n",
      "156/156 [==============================] - 6507s 42s/step - loss: 0.2725 - acc: 0.8912 - val_loss: 0.2619 - val_acc: 0.8939\n",
      "\n",
      "Epoch 00017: val_acc improved from 0.88431 to 0.89394, saving model to vgg16_2.h5\n",
      "Epoch 18/20\n",
      "156/156 [==============================] - 6484s 42s/step - loss: 0.2483 - acc: 0.8976 - val_loss: 0.2407 - val_acc: 0.9018\n",
      "\n",
      "Epoch 00018: val_acc improved from 0.89394 to 0.90182, saving model to vgg16_2.h5\n",
      "Epoch 19/20\n",
      "156/156 [==============================] - 6475s 42s/step - loss: 0.2584 - acc: 0.9002 - val_loss: 0.2622 - val_acc: 0.8881\n",
      "\n",
      "Epoch 00019: val_acc did not improve from 0.90182\n",
      "Epoch 20/20\n",
      "156/156 [==============================] - 6720s 43s/step - loss: 0.2568 - acc: 0.8954 - val_loss: 0.2263 - val_acc: 0.9113\n",
      "\n",
      "Epoch 00020: val_acc improved from 0.90182 to 0.91132, saving model to vgg16_2.h5\n"
     ]
    },
    {
     "data": {
      "text/plain": [
       "<keras.callbacks.History at 0x1c85c653390>"
      ]
     },
     "execution_count": 11,
     "metadata": {},
     "output_type": "execute_result"
    }
   ],
   "source": [
    "model_final.fit_generator(\n",
    "train_generator,\n",
    "samples_per_epoch = nb_train_samples,\n",
    "epochs = epochs,\n",
    "validation_data = validation_generator,\n",
    "nb_val_samples = nb_validation_samples,\n",
    "callbacks = [checkpoint, early])"
   ]
  },
  {
   "cell_type": "markdown",
   "metadata": {},
   "source": [
    "## VGG -10 Layers (60 X 80)"
   ]
  },
  {
   "cell_type": "code",
   "execution_count": 2,
   "metadata": {},
   "outputs": [],
   "source": [
    "img_width, img_height = 80, 60\n",
    "train_data_dir = \"C:/Users/M&D/Dropbox/Data_Science/Final_Capstone/blood-cells/dataset-master/dataset-master/data/TRAIN\"\n",
    "val_data_dir = \"C:/Users/M&D/Dropbox/Data_Science/Final_Capstone/blood-cells/dataset-master/dataset-master/data/TRAIN\"\n",
    "nb_train_samples = 5000\n",
    "nb_validation_samples = 1000 \n",
    "batch_size = 32\n",
    "epochs = 20"
   ]
  },
  {
   "cell_type": "code",
   "execution_count": 3,
   "metadata": {},
   "outputs": [
    {
     "name": "stdout",
     "output_type": "stream",
     "text": [
      "WARNING:tensorflow:From C:\\Users\\M&D\\AppData\\Roaming\\Python\\Python37\\site-packages\\tensorflow\\python\\framework\\op_def_library.py:263: colocate_with (from tensorflow.python.framework.ops) is deprecated and will be removed in a future version.\n",
      "Instructions for updating:\n",
      "Colocations handled automatically by placer.\n"
     ]
    }
   ],
   "source": [
    "model1 = applications.VGG16(weights = \"imagenet\", include_top=False, input_shape = (img_width, img_height, 3))"
   ]
  },
  {
   "cell_type": "code",
   "execution_count": 5,
   "metadata": {},
   "outputs": [
    {
     "name": "stdout",
     "output_type": "stream",
     "text": [
      "_________________________________________________________________\n",
      "Layer (type)                 Output Shape              Param #   \n",
      "=================================================================\n",
      "input_1 (InputLayer)         (None, 80, 60, 3)         0         \n",
      "_________________________________________________________________\n",
      "block1_conv1 (Conv2D)        (None, 80, 60, 64)        1792      \n",
      "_________________________________________________________________\n",
      "block1_conv2 (Conv2D)        (None, 80, 60, 64)        36928     \n",
      "_________________________________________________________________\n",
      "block1_pool (MaxPooling2D)   (None, 40, 30, 64)        0         \n",
      "_________________________________________________________________\n",
      "block2_conv1 (Conv2D)        (None, 40, 30, 128)       73856     \n",
      "_________________________________________________________________\n",
      "block2_conv2 (Conv2D)        (None, 40, 30, 128)       147584    \n",
      "_________________________________________________________________\n",
      "block2_pool (MaxPooling2D)   (None, 20, 15, 128)       0         \n",
      "_________________________________________________________________\n",
      "block3_conv1 (Conv2D)        (None, 20, 15, 256)       295168    \n",
      "_________________________________________________________________\n",
      "block3_conv2 (Conv2D)        (None, 20, 15, 256)       590080    \n",
      "_________________________________________________________________\n",
      "block3_conv3 (Conv2D)        (None, 20, 15, 256)       590080    \n",
      "_________________________________________________________________\n",
      "block3_pool (MaxPooling2D)   (None, 10, 7, 256)        0         \n",
      "_________________________________________________________________\n",
      "block4_conv1 (Conv2D)        (None, 10, 7, 512)        1180160   \n",
      "_________________________________________________________________\n",
      "block4_conv2 (Conv2D)        (None, 10, 7, 512)        2359808   \n",
      "_________________________________________________________________\n",
      "block4_conv3 (Conv2D)        (None, 10, 7, 512)        2359808   \n",
      "_________________________________________________________________\n",
      "block4_pool (MaxPooling2D)   (None, 5, 3, 512)         0         \n",
      "_________________________________________________________________\n",
      "block5_conv1 (Conv2D)        (None, 5, 3, 512)         2359808   \n",
      "_________________________________________________________________\n",
      "block5_conv2 (Conv2D)        (None, 5, 3, 512)         2359808   \n",
      "_________________________________________________________________\n",
      "block5_conv3 (Conv2D)        (None, 5, 3, 512)         2359808   \n",
      "_________________________________________________________________\n",
      "block5_pool (MaxPooling2D)   (None, 2, 1, 512)         0         \n",
      "=================================================================\n",
      "Total params: 14,714,688\n",
      "Trainable params: 14,714,688\n",
      "Non-trainable params: 0\n",
      "_________________________________________________________________\n"
     ]
    }
   ],
   "source": [
    "model1.summary()"
   ]
  },
  {
   "cell_type": "code",
   "execution_count": 7,
   "metadata": {},
   "outputs": [],
   "source": [
    "for layer in model1.layers[:10]:\n",
    "    layer.trainable = False"
   ]
  },
  {
   "cell_type": "code",
   "execution_count": 8,
   "metadata": {},
   "outputs": [
    {
     "name": "stdout",
     "output_type": "stream",
     "text": [
      "WARNING:tensorflow:From C:\\Users\\M&D\\AppData\\Roaming\\Python\\Python37\\site-packages\\keras\\backend\\tensorflow_backend.py:3445: calling dropout (from tensorflow.python.ops.nn_ops) with keep_prob is deprecated and will be removed in a future version.\n",
      "Instructions for updating:\n",
      "Please use `rate` instead of `keep_prob`. Rate should be set to `rate = 1 - keep_prob`.\n"
     ]
    }
   ],
   "source": [
    "x = model1.output\n",
    "x = Flatten()(x)\n",
    "x = Dense(256, activation=\"relu\")(x)\n",
    "x = Dropout(0.5)(x)\n",
    "x = Dense(64, activation=\"relu\")(x)\n",
    "predictions = Dense(4, activation=\"softmax\")(x)"
   ]
  },
  {
   "cell_type": "code",
   "execution_count": 9,
   "metadata": {},
   "outputs": [
    {
     "name": "stderr",
     "output_type": "stream",
     "text": [
      "C:\\Users\\Matt\\anaconda3\\lib\\site-packages\\ipykernel_launcher.py:1: UserWarning: Update your `Model` call to the Keras 2 API: `Model(inputs=Tensor(\"in..., outputs=Tensor(\"de...)`\n",
      "  \"\"\"Entry point for launching an IPython kernel.\n"
     ]
    }
   ],
   "source": [
    "model_final_1 = Model(input = model1.input, output = predictions)"
   ]
  },
  {
   "cell_type": "code",
   "execution_count": 10,
   "metadata": {},
   "outputs": [],
   "source": [
    "model_final_1.compile(loss = \"categorical_crossentropy\", optimizer = optimizers.SGD(lr=0.0001, momentum=0.9), metrics=[\"accuracy\"])"
   ]
  },
  {
   "cell_type": "code",
   "execution_count": 11,
   "metadata": {},
   "outputs": [],
   "source": [
    "checkpoint = ModelCheckpoint(\"vgg16_3.h5\", monitor='val_acc', verbose=1, save_best_only=True, save_weights_only=False, mode='auto', period=1)\n",
    "early = EarlyStopping(monitor='val_acc', min_delta=0, patience=10, verbose=1, mode='auto')"
   ]
  },
  {
   "cell_type": "code",
   "execution_count": 14,
   "metadata": {
    "scrolled": false
   },
   "outputs": [
    {
     "name": "stdout",
     "output_type": "stream",
     "text": [
      "WARNING:tensorflow:From C:\\Users\\M&D\\AppData\\Roaming\\Python\\Python37\\site-packages\\tensorflow\\python\\ops\\math_ops.py:3066: to_int32 (from tensorflow.python.ops.math_ops) is deprecated and will be removed in a future version.\n",
      "Instructions for updating:\n",
      "Use tf.cast instead.\n"
     ]
    },
    {
     "name": "stderr",
     "output_type": "stream",
     "text": [
      "C:\\Users\\Matt\\anaconda3\\lib\\site-packages\\ipykernel_launcher.py:7: UserWarning: The semantics of the Keras 2 argument `steps_per_epoch` is not the same as the Keras 1 argument `samples_per_epoch`. `steps_per_epoch` is the number of batches to draw from the generator at each epoch. Basically steps_per_epoch = samples_per_epoch/batch_size. Similarly `nb_val_samples`->`validation_steps` and `val_samples`->`steps` arguments have changed. Update your method calls accordingly.\n",
      "  import sys\n",
      "C:\\Users\\Matt\\anaconda3\\lib\\site-packages\\ipykernel_launcher.py:7: UserWarning: Update your `fit_generator` call to the Keras 2 API: `fit_generator(<keras_pre..., epochs=20, validation_data=<keras_pre..., callbacks=[<keras.ca..., steps_per_epoch=156, validation_steps=1000)`\n",
      "  import sys\n"
     ]
    },
    {
     "name": "stdout",
     "output_type": "stream",
     "text": [
      "Epoch 1/20\n",
      "156/156 [==============================] - 1680s 11s/step - loss: 1.4534 - acc: 0.2979 - val_loss: 1.2997 - val_acc: 0.3693\n",
      "\n",
      "Epoch 00001: val_acc improved from -inf to 0.36929, saving model to vgg16_3.h5\n",
      "Epoch 2/20\n",
      "156/156 [==============================] - 1534s 10s/step - loss: 1.2810 - acc: 0.3807 - val_loss: 1.1622 - val_acc: 0.4773\n",
      "\n",
      "Epoch 00002: val_acc improved from 0.36929 to 0.47733, saving model to vgg16_3.h5\n",
      "Epoch 3/20\n",
      "156/156 [==============================] - 1723s 11s/step - loss: 1.1564 - acc: 0.4713 - val_loss: 1.0577 - val_acc: 0.5556\n",
      "\n",
      "Epoch 00003: val_acc improved from 0.47733 to 0.55559, saving model to vgg16_3.h5\n",
      "Epoch 4/20\n",
      "156/156 [==============================] - 1511s 10s/step - loss: 1.0576 - acc: 0.5355 - val_loss: 0.9960 - val_acc: 0.5717\n",
      "\n",
      "Epoch 00004: val_acc improved from 0.55559 to 0.57171, saving model to vgg16_3.h5\n",
      "Epoch 5/20\n",
      "156/156 [==============================] - 1510s 10s/step - loss: 0.9792 - acc: 0.5753 - val_loss: 0.8705 - val_acc: 0.6427\n",
      "\n",
      "Epoch 00005: val_acc improved from 0.57171 to 0.64272, saving model to vgg16_3.h5\n",
      "Epoch 6/20\n",
      "156/156 [==============================] - 1508s 10s/step - loss: 0.8931 - acc: 0.6239 - val_loss: 0.8291 - val_acc: 0.6582\n",
      "\n",
      "Epoch 00006: val_acc improved from 0.64272 to 0.65817, saving model to vgg16_3.h5\n",
      "Epoch 7/20\n",
      "156/156 [==============================] - 1509s 10s/step - loss: 0.7960 - acc: 0.6807 - val_loss: 0.7092 - val_acc: 0.7145\n",
      "\n",
      "Epoch 00007: val_acc improved from 0.65817 to 0.71449, saving model to vgg16_3.h5\n",
      "Epoch 8/20\n",
      "156/156 [==============================] - 1511s 10s/step - loss: 0.7310 - acc: 0.7016 - val_loss: 0.6534 - val_acc: 0.7359\n",
      "\n",
      "Epoch 00008: val_acc improved from 0.71449 to 0.73587, saving model to vgg16_3.h5\n",
      "Epoch 9/20\n",
      "156/156 [==============================] - 1508s 10s/step - loss: 0.6628 - acc: 0.7301 - val_loss: 0.6267 - val_acc: 0.7431\n",
      "\n",
      "Epoch 00009: val_acc improved from 0.73587 to 0.74308, saving model to vgg16_3.h5\n",
      "Epoch 10/20\n",
      "156/156 [==============================] - 1508s 10s/step - loss: 0.6229 - acc: 0.7451 - val_loss: 0.5660 - val_acc: 0.7661\n",
      "\n",
      "Epoch 00010: val_acc improved from 0.74308 to 0.76610, saving model to vgg16_3.h5\n",
      "Epoch 11/20\n",
      "156/156 [==============================] - 1508s 10s/step - loss: 0.5974 - acc: 0.7598 - val_loss: 0.5277 - val_acc: 0.7835\n",
      "\n",
      "Epoch 00011: val_acc improved from 0.76610 to 0.78348, saving model to vgg16_3.h5\n",
      "Epoch 12/20\n",
      "156/156 [==============================] - 1509s 10s/step - loss: 0.5572 - acc: 0.7751 - val_loss: 0.5431 - val_acc: 0.7758\n",
      "\n",
      "Epoch 00012: val_acc did not improve from 0.78348\n",
      "Epoch 13/20\n",
      "156/156 [==============================] - 1501s 10s/step - loss: 0.5290 - acc: 0.7822 - val_loss: 0.4835 - val_acc: 0.8009\n",
      "\n",
      "Epoch 00013: val_acc improved from 0.78348 to 0.80086, saving model to vgg16_3.h5\n",
      "Epoch 14/20\n",
      "156/156 [==============================] - 1508s 10s/step - loss: 0.5015 - acc: 0.7899 - val_loss: 0.4466 - val_acc: 0.8138\n",
      "\n",
      "Epoch 00014: val_acc improved from 0.80086 to 0.81384, saving model to vgg16_3.h5\n",
      "Epoch 15/20\n",
      "156/156 [==============================] - 1509s 10s/step - loss: 0.4891 - acc: 0.8026 - val_loss: 0.4525 - val_acc: 0.8045\n",
      "\n",
      "Epoch 00015: val_acc did not improve from 0.81384\n",
      "Epoch 16/20\n",
      "156/156 [==============================] - 1501s 10s/step - loss: 0.4477 - acc: 0.8150 - val_loss: 0.4243 - val_acc: 0.8236\n",
      "\n",
      "Epoch 00016: val_acc improved from 0.81384 to 0.82362, saving model to vgg16_3.h5\n",
      "Epoch 17/20\n",
      "156/156 [==============================] - 1517s 10s/step - loss: 0.4366 - acc: 0.8211 - val_loss: 0.4521 - val_acc: 0.8081\n",
      "\n",
      "Epoch 00017: val_acc did not improve from 0.82362\n",
      "Epoch 18/20\n",
      "156/156 [==============================] - 1507s 10s/step - loss: 0.3996 - acc: 0.8325 - val_loss: 0.3780 - val_acc: 0.8420\n",
      "\n",
      "Epoch 00018: val_acc improved from 0.82362 to 0.84196, saving model to vgg16_3.h5\n",
      "Epoch 19/20\n",
      "156/156 [==============================] - 1510s 10s/step - loss: 0.4041 - acc: 0.8323 - val_loss: 0.4204 - val_acc: 0.8189\n",
      "\n",
      "Epoch 00019: val_acc did not improve from 0.84196\n",
      "Epoch 20/20\n",
      "156/156 [==============================] - 1506s 10s/step - loss: 0.3761 - acc: 0.8441 - val_loss: 0.3637 - val_acc: 0.8480\n",
      "\n",
      "Epoch 00020: val_acc improved from 0.84196 to 0.84800, saving model to vgg16_3.h5\n"
     ]
    }
   ],
   "source": [
    "history = model_final_1.fit_generator(\n",
    "train_generator,\n",
    "samples_per_epoch = nb_train_samples,\n",
    "epochs = epochs,\n",
    "validation_data = validation_generator,\n",
    "nb_val_samples = nb_validation_samples,\n",
    "callbacks = [checkpoint, early])"
   ]
  },
  {
   "cell_type": "code",
   "execution_count": 15,
   "metadata": {},
   "outputs": [],
   "source": [
    "from keras.models import load_model"
   ]
  },
  {
   "cell_type": "code",
   "execution_count": 16,
   "metadata": {},
   "outputs": [],
   "source": [
    "model = load_model('vgg16_3.h5')"
   ]
  },
  {
   "cell_type": "code",
   "execution_count": 24,
   "metadata": {},
   "outputs": [],
   "source": [
    "# testing model \n",
    "import itertools\n",
    "import matplotlib.pyplot as plt\n",
    "import numpy as np\n",
    "%matplotlib inline\n",
    "from sklearn.metrics import confusion_matrix, classification_report\n",
    "\n",
    "\n",
    "#plotting confusion matrix\n",
    "def plot_confusion_matrix(cm, classes,\n",
    "                          normalize=False,\n",
    "                          title='Confusion matrix',\n",
    "                          cmap='cividis'):\n",
    "    \"\"\"\n",
    "    This function prints and plots the confusion matrix.\n",
    "    Normalization can be applied by setting `normalize=True`.\n",
    "    \"\"\"\n",
    "    plt.imshow(cm, interpolation='nearest', cmap=cmap)\n",
    "    plt.title(title)\n",
    "    plt.colorbar()\n",
    "    tick_marks = np.arange(len(classes))\n",
    "    plt.xticks(tick_marks, classes, rotation=45)\n",
    "    plt.yticks(tick_marks, classes)\n",
    "\n",
    "    if normalize:\n",
    "        cm = cm.astype('float') / cm.sum(axis=1)[:, np.newaxis]\n",
    "        print(\"Normalized confusion matrix\")\n",
    "    else:\n",
    "        print('Confusion matrix, without normalization')\n",
    "\n",
    "    print(cm)\n",
    "\n",
    "    thresh = cm.max() / 2.\n",
    "    for i, j in itertools.product(range(cm.shape[0]), range(cm.shape[1])):\n",
    "        plt.text(j, i, cm[i, j],\n",
    "                 horizontalalignment=\"center\",\n",
    "                 color=\"white\" if cm[i, j] > thresh else \"black\")\n",
    "\n",
    "    plt.tight_layout()\n",
    "    plt.ylabel('True label')\n",
    "    plt.xlabel('Predicted label')\n",
    "    \n",
    "#test function\n",
    "    \n",
    "def predict(model,model_name,testing_generator,no_images,batch_size):\n",
    "    \n",
    "    '''\n",
    "    Test function to test the CNN model \n",
    "    \n",
    "    \n",
    "    model - CNN model\n",
    "    model_name - model name to save data \n",
    "    image_generator - image generator to generate test images\n",
    "    batch_size = batch size \n",
    "    \n",
    "    \n",
    "    \n",
    "    '''\n",
    "    dict_characters = {1:'NEUTROPHIL',2:'EOSINOPHIL',3:'MONOCYTE',4:'LYMPHOCYTE'}\n",
    "    steps=no_images/batch_size\n",
    "    predictions = model.predict_generator(testing_generator,steps=steps)\n",
    "    predicted_classes = np.argmax(predictions, axis=1)\n",
    "    true_classes = testing_generator.classes\n",
    "    class_labels = list(testing_generator.class_indices.keys())\n",
    "    report = classification_report(true_classes, predicted_classes, target_names=class_labels)\n",
    "    print(report)  \n",
    "    cm =confusion_matrix(true_classes, predicted_classes)\n",
    "    cm_plot_labels = list(testing_generator.class_indices.keys()) \n",
    "    plot_confusion_matrix(cm, cm_plot_labels, title='Confusion Matrix {}'.format(model_name))"
   ]
  },
  {
   "cell_type": "code",
   "execution_count": 22,
   "metadata": {},
   "outputs": [
    {
     "name": "stdout",
     "output_type": "stream",
     "text": [
      "Found 2441 images belonging to 4 classes.\n"
     ]
    }
   ],
   "source": [
    "test_path = \"C:/Users/M&D/Dropbox/Data_Science/Final_Capstone/blood-cells/dataset-master/dataset-master/data/TEST\"\n",
    "test_datagen = ImageDataGenerator(rescale=1./255)\n",
    "testing_generator = test_datagen.flow_from_directory(\n",
    "            test_path,\n",
    "            target_size= (80,60),\n",
    "            batch_size=batch_size,\n",
    "            shuffle = False,\n",
    "            class_mode='categorical')"
   ]
  },
  {
   "cell_type": "code",
   "execution_count": 25,
   "metadata": {},
   "outputs": [
    {
     "name": "stdout",
     "output_type": "stream",
     "text": [
      "              precision    recall  f1-score   support\n",
      "\n",
      "  EOSINOPHIL       0.77      0.81      0.79       617\n",
      "  LYMPHOCYTE       0.95      0.95      0.95       599\n",
      "    MONOCYTE       0.84      0.99      0.91       621\n",
      "  NEUTROPHIL       0.88      0.67      0.76       604\n",
      "\n",
      "   micro avg       0.86      0.86      0.86      2441\n",
      "   macro avg       0.86      0.86      0.85      2441\n",
      "weighted avg       0.86      0.86      0.85      2441\n",
      "\n",
      "Confusion matrix, without normalization\n",
      "[[498  24  40  55]\n",
      " [ 27 572   0   0]\n",
      " [  2   0 617   2]\n",
      " [120   3  77 404]]\n"
     ]
    },
    {
     "data": {
      "image/png": "[encoded data removed]",
      "text/plain": [
       "<Figure size 432x288 with 2 Axes>"
      ]
     },
     "metadata": {
      "needs_background": "light"
     },
     "output_type": "display_data"
    }
   ],
   "source": [
    "predict(model ,'vgg_3',testing_generator,2441,batch_size)"
   ]
  },
  {
   "cell_type": "code",
   "execution_count": 26,
   "metadata": {},
   "outputs": [],
   "source": [
    "model1 = load_model('vgg16_2.h5')"
   ]
  },
  {
   "cell_type": "code",
   "execution_count": 27,
   "metadata": {},
   "outputs": [
    {
     "name": "stdout",
     "output_type": "stream",
     "text": [
      "Found 2441 images belonging to 4 classes.\n"
     ]
    }
   ],
   "source": [
    "testing_generator = test_datagen.flow_from_directory(\n",
    "            test_path,\n",
    "            target_size= (150,150),\n",
    "            batch_size=batch_size,\n",
    "            shuffle = False,\n",
    "            class_mode='categorical')"
   ]
  },
  {
   "cell_type": "code",
   "execution_count": 28,
   "metadata": {},
   "outputs": [
    {
     "name": "stdout",
     "output_type": "stream",
     "text": [
      "              precision    recall  f1-score   support\n",
      "\n",
      "  EOSINOPHIL       0.83      0.93      0.88       617\n",
      "  LYMPHOCYTE       0.99      0.96      0.98       599\n",
      "    MONOCYTE       0.93      1.00      0.96       621\n",
      "  NEUTROPHIL       0.93      0.78      0.85       604\n",
      "\n",
      "   micro avg       0.92      0.92      0.92      2441\n",
      "   macro avg       0.92      0.92      0.92      2441\n",
      "weighted avg       0.92      0.92      0.92      2441\n",
      "\n",
      "Confusion matrix, without normalization\n",
      "[[574   3  11  29]\n",
      " [ 15 578   1   5]\n",
      " [  2   0 618   1]\n",
      " [103   1  31 469]]\n"
     ]
    },
    {
     "data": {
      "image/png": "[encoded data removed]",
      "text/plain": [
       "<Figure size 432x288 with 2 Axes>"
      ]
     },
     "metadata": {
      "needs_background": "light"
     },
     "output_type": "display_data"
    }
   ],
   "source": [
    "predict(model ,'vgg_2',testing_generator,2441,batch_size)"
   ]
  },
  {
   "cell_type": "code",
   "execution_count": 29,
   "metadata": {},
   "outputs": [],
   "source": [
    "model1 = load_model('vgg16_1.h5')"
   ]
  },
  {
   "cell_type": "code",
   "execution_count": 30,
   "metadata": {},
   "outputs": [
    {
     "name": "stdout",
     "output_type": "stream",
     "text": [
      "Found 2441 images belonging to 4 classes.\n"
     ]
    }
   ],
   "source": [
    "testing_generator = test_datagen.flow_from_directory(\n",
    "            test_path,\n",
    "            target_size= (80,60),\n",
    "            batch_size=batch_size,\n",
    "            shuffle = False,\n",
    "            class_mode='categorical')"
   ]
  },
  {
   "cell_type": "code",
   "execution_count": 32,
   "metadata": {},
   "outputs": [
    {
     "name": "stdout",
     "output_type": "stream",
     "text": [
      "              precision    recall  f1-score   support\n",
      "\n",
      "  EOSINOPHIL       0.72      0.76      0.74       617\n",
      "  LYMPHOCYTE       0.88      0.81      0.85       599\n",
      "    MONOCYTE       0.85      0.88      0.86       621\n",
      "  NEUTROPHIL       0.77      0.75      0.76       604\n",
      "\n",
      "   micro avg       0.80      0.80      0.80      2441\n",
      "   macro avg       0.80      0.80      0.80      2441\n",
      "weighted avg       0.80      0.80      0.80      2441\n",
      "\n",
      "Confusion matrix, without normalization\n",
      "[[470  66  13  68]\n",
      " [ 38 488  69   4]\n",
      " [ 15   0 545  61]\n",
      " [132   1  16 455]]\n"
     ]
    },
    {
     "data": {
      "image/png": "[encoded data removed]",
      "text/plain": [
       "<Figure size 432x288 with 2 Axes>"
      ]
     },
     "metadata": {
      "needs_background": "light"
     },
     "output_type": "display_data"
    }
   ],
   "source": [
    "predict(model1 ,'vgg_1',testing_generator,2441,batch_size)"
   ]
  },
  {
   "cell_type": "code",
   "execution_count": null,
   "metadata": {},
   "outputs": [],
   "source": []
  }
 ],
 "metadata": {
  "kernelspec": {
   "display_name": "Python 3",
   "language": "python",
   "name": "python3"
  },
  "language_info": {
   "codemirror_mode": {
    "name": "ipython",
    "version": 3
   },
   "file_extension": ".py",
   "mimetype": "text/x-python",
   "name": "python",
   "nbconvert_exporter": "python",
   "pygments_lexer": "ipython3",
   "version": "3.7.3"
  }
 },
 "nbformat": 4,
 "nbformat_minor": 2
}
