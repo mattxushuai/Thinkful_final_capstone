{
 "cells": [
  {
   "cell_type": "code",
   "execution_count": 1,
   "metadata": {},
   "outputs": [
    {
     "name": "stderr",
     "output_type": "stream",
     "text": [
      "Using TensorFlow backend.\n"
     ]
    }
   ],
   "source": [
    "from keras import applications\n",
    "from keras.models import Sequential, Model, load_model\n",
    "from keras.layers import Conv2D, MaxPooling2D, Activation, Dropout, Flatten, Dense, GlobalAveragePooling2D, BatchNormalization\n",
    "from keras import backend as K\n",
    "import tensorflow as tf\n",
    "from keras.callbacks import EarlyStopping, TensorBoard\n",
    "from keras.preprocessing.image import ImageDataGenerator\n",
    "from keras import optimizers\n",
    "from keras.optimizers import Adadelta, Adam, Adagrad, RMSprop\n",
    "from keras.callbacks import ModelCheckpoint, LearningRateScheduler, TensorBoard, EarlyStopping\n",
    "import os\n",
    "import matplotlib.pyplot as plt\n",
    "%matplotlib inline"
   ]
  },
  {
   "cell_type": "code",
   "execution_count": 2,
   "metadata": {},
   "outputs": [],
   "source": [
    "img_width, img_height = 80, 60\n",
    "train_data_dir = \"C:/Users/shuaix/Dropbox/Data_Science/Final_Capstone/blood-cells/dataset-master/dataset-master/data/TRAIN\"\n",
    "val_data_dir = \"C:/Users/shuaix/Dropbox/Data_Science/Final_Capstone/blood-cells/dataset-master/dataset-master/data/TRAIN\"\n",
    "nb_train_samples = 5000\n",
    "nb_validation_samples = 1000 \n",
    "batch_size = 32\n",
    "epochs = 20"
   ]
  },
  {
   "cell_type": "code",
   "execution_count": 3,
   "metadata": {},
   "outputs": [
    {
     "name": "stdout",
     "output_type": "stream",
     "text": [
      "WARNING:tensorflow:From C:\\Users\\shuaix\\anaconda3\\lib\\site-packages\\tensorflow\\python\\framework\\op_def_library.py:263: colocate_with (from tensorflow.python.framework.ops) is deprecated and will be removed in a future version.\n",
      "Instructions for updating:\n",
      "Colocations handled automatically by placer.\n"
     ]
    }
   ],
   "source": [
    "model = applications.VGG16(weights = \"imagenet\", include_top=False, input_shape = (img_width, img_height, 3))"
   ]
  },
  {
   "cell_type": "code",
   "execution_count": 4,
   "metadata": {},
   "outputs": [
    {
     "name": "stdout",
     "output_type": "stream",
     "text": [
      "_________________________________________________________________\n",
      "Layer (type)                 Output Shape              Param #   \n",
      "=================================================================\n",
      "input_1 (InputLayer)         (None, 80, 60, 3)         0         \n",
      "_________________________________________________________________\n",
      "block1_conv1 (Conv2D)        (None, 80, 60, 64)        1792      \n",
      "_________________________________________________________________\n",
      "block1_conv2 (Conv2D)        (None, 80, 60, 64)        36928     \n",
      "_________________________________________________________________\n",
      "block1_pool (MaxPooling2D)   (None, 40, 30, 64)        0         \n",
      "_________________________________________________________________\n",
      "block2_conv1 (Conv2D)        (None, 40, 30, 128)       73856     \n",
      "_________________________________________________________________\n",
      "block2_conv2 (Conv2D)        (None, 40, 30, 128)       147584    \n",
      "_________________________________________________________________\n",
      "block2_pool (MaxPooling2D)   (None, 20, 15, 128)       0         \n",
      "_________________________________________________________________\n",
      "block3_conv1 (Conv2D)        (None, 20, 15, 256)       295168    \n",
      "_________________________________________________________________\n",
      "block3_conv2 (Conv2D)        (None, 20, 15, 256)       590080    \n",
      "_________________________________________________________________\n",
      "block3_conv3 (Conv2D)        (None, 20, 15, 256)       590080    \n",
      "_________________________________________________________________\n",
      "block3_pool (MaxPooling2D)   (None, 10, 7, 256)        0         \n",
      "_________________________________________________________________\n",
      "block4_conv1 (Conv2D)        (None, 10, 7, 512)        1180160   \n",
      "_________________________________________________________________\n",
      "block4_conv2 (Conv2D)        (None, 10, 7, 512)        2359808   \n",
      "_________________________________________________________________\n",
      "block4_conv3 (Conv2D)        (None, 10, 7, 512)        2359808   \n",
      "_________________________________________________________________\n",
      "block4_pool (MaxPooling2D)   (None, 5, 3, 512)         0         \n",
      "_________________________________________________________________\n",
      "block5_conv1 (Conv2D)        (None, 5, 3, 512)         2359808   \n",
      "_________________________________________________________________\n",
      "block5_conv2 (Conv2D)        (None, 5, 3, 512)         2359808   \n",
      "_________________________________________________________________\n",
      "block5_conv3 (Conv2D)        (None, 5, 3, 512)         2359808   \n",
      "_________________________________________________________________\n",
      "block5_pool (MaxPooling2D)   (None, 2, 1, 512)         0         \n",
      "=================================================================\n",
      "Total params: 14,714,688\n",
      "Trainable params: 14,714,688\n",
      "Non-trainable params: 0\n",
      "_________________________________________________________________\n"
     ]
    }
   ],
   "source": [
    "model.summary()"
   ]
  },
  {
   "cell_type": "code",
   "execution_count": 5,
   "metadata": {},
   "outputs": [],
   "source": [
    "for layer in model.layers[:5]:\n",
    "    layer.trainable = False"
   ]
  },
  {
   "cell_type": "code",
   "execution_count": 6,
   "metadata": {},
   "outputs": [
    {
     "name": "stdout",
     "output_type": "stream",
     "text": [
      "WARNING:tensorflow:From C:\\Users\\shuaix\\anaconda3\\lib\\site-packages\\keras\\backend\\tensorflow_backend.py:3445: calling dropout (from tensorflow.python.ops.nn_ops) with keep_prob is deprecated and will be removed in a future version.\n",
      "Instructions for updating:\n",
      "Please use `rate` instead of `keep_prob`. Rate should be set to `rate = 1 - keep_prob`.\n"
     ]
    }
   ],
   "source": [
    "x = model.output\n",
    "x = Flatten()(x)\n",
    "x = Dense(256, activation=\"relu\")(x)\n",
    "x = Dropout(0.5)(x)\n",
    "x = Dense(64, activation=\"relu\")(x)\n",
    "predictions = Dense(4, activation=\"softmax\")(x)"
   ]
  },
  {
   "cell_type": "code",
   "execution_count": 7,
   "metadata": {},
   "outputs": [
    {
     "name": "stderr",
     "output_type": "stream",
     "text": [
      "C:\\Users\\shuaix\\anaconda3\\lib\\site-packages\\ipykernel_launcher.py:1: UserWarning: Update your `Model` call to the Keras 2 API: `Model(inputs=Tensor(\"in..., outputs=Tensor(\"de...)`\n",
      "  \"\"\"Entry point for launching an IPython kernel.\n"
     ]
    }
   ],
   "source": [
    "model_final = Model(input = model.input, output = predictions)"
   ]
  },
  {
   "cell_type": "code",
   "execution_count": 8,
   "metadata": {},
   "outputs": [],
   "source": [
    "model_final.compile(loss = \"categorical_crossentropy\", optimizer = optimizers.SGD(lr=0.0001, momentum=0.9), metrics=[\"accuracy\"])"
   ]
  },
  {
   "cell_type": "code",
   "execution_count": 9,
   "metadata": {},
   "outputs": [
    {
     "name": "stdout",
     "output_type": "stream",
     "text": [
      "Found 7087 images belonging to 4 classes.\n",
      "Found 1769 images belonging to 4 classes.\n"
     ]
    }
   ],
   "source": [
    "train_datagen = ImageDataGenerator(\n",
    "        rescale=1./255,\n",
    "        featurewise_center=False,  # set input mean to 0 over the dataset\n",
    "        samplewise_center=False,  # set each sample mean to 0\n",
    "        featurewise_std_normalization=False,  # divide inputs by std of the dataset\n",
    "        samplewise_std_normalization=False,  # divide each input by its std\n",
    "        zca_whitening=False,  # apply ZCA whitening\n",
    "        rotation_range=90,  # randomly rotate images in the range (degrees, 0 to 180)\n",
    "        width_shift_range=0.1,  # randomly shift images horizontally (fraction of total width)\n",
    "        height_shift_range=0.1,  # randomly shift images vertically (fraction of total height)\n",
    "        horizontal_flip=True,  # randomly flip images\n",
    "        vertical_flip=False,\n",
    "        validation_split=0.2)\n",
    "\n",
    "test_datagen = ImageDataGenerator(\n",
    "rescale = 1./255,\n",
    "horizontal_flip = True,\n",
    "fill_mode = \"nearest\",\n",
    "zoom_range = 0.3,\n",
    "width_shift_range = 0.3,\n",
    "height_shift_range=0.3,\n",
    "rotation_range=30)\n",
    "\n",
    "train_generator = train_datagen.flow_from_directory(\n",
    "train_data_dir,\n",
    "target_size = (img_width,img_height),\n",
    "batch_size = batch_size, \n",
    "class_mode = \"categorical\",subset='training')\n",
    "\n",
    "validation_generator = train_datagen.flow_from_directory(\n",
    "val_data_dir,\n",
    "target_size = (img_width,img_height),\n",
    "class_mode = \"categorical\",subset='validation')"
   ]
  },
  {
   "cell_type": "code",
   "execution_count": 10,
   "metadata": {},
   "outputs": [],
   "source": [
    "checkpoint = ModelCheckpoint(\"vgg16_1.h5\", monitor='val_acc', verbose=1, save_best_only=True, save_weights_only=False, mode='auto', period=1)\n",
    "early = EarlyStopping(monitor='val_acc', min_delta=0, patience=10, verbose=1, mode='auto')"
   ]
  },
  {
   "cell_type": "code",
   "execution_count": 11,
   "metadata": {},
   "outputs": [
    {
     "name": "stdout",
     "output_type": "stream",
     "text": [
      "WARNING:tensorflow:From C:\\Users\\shuaix\\anaconda3\\lib\\site-packages\\tensorflow\\python\\ops\\math_ops.py:3066: to_int32 (from tensorflow.python.ops.math_ops) is deprecated and will be removed in a future version.\n",
      "Instructions for updating:\n",
      "Use tf.cast instead.\n"
     ]
    },
    {
     "name": "stderr",
     "output_type": "stream",
     "text": [
      "C:\\Users\\shuaix\\anaconda3\\lib\\site-packages\\ipykernel_launcher.py:7: UserWarning: The semantics of the Keras 2 argument `steps_per_epoch` is not the same as the Keras 1 argument `samples_per_epoch`. `steps_per_epoch` is the number of batches to draw from the generator at each epoch. Basically steps_per_epoch = samples_per_epoch/batch_size. Similarly `nb_val_samples`->`validation_steps` and `val_samples`->`steps` arguments have changed. Update your method calls accordingly.\n",
      "  import sys\n",
      "C:\\Users\\shuaix\\anaconda3\\lib\\site-packages\\ipykernel_launcher.py:7: UserWarning: Update your `fit_generator` call to the Keras 2 API: `fit_generator(<keras_pre..., epochs=20, validation_data=<keras_pre..., callbacks=[<keras.ca..., steps_per_epoch=156, validation_steps=1000)`\n",
      "  import sys\n"
     ]
    },
    {
     "name": "stdout",
     "output_type": "stream",
     "text": [
      "Epoch 1/20\n",
      "156/156 [==============================] - 1438s 9s/step - loss: 1.4377 - acc: 0.2819 - val_loss: 1.3195 - val_acc: 0.3927\n",
      "\n",
      "Epoch 00001: val_acc improved from -inf to 0.39267, saving model to vgg16_1.h5\n",
      "Epoch 2/20\n",
      "156/156 [==============================] - 1399s 9s/step - loss: 1.2871 - acc: 0.3854 - val_loss: 1.1772 - val_acc: 0.4530\n",
      "\n",
      "Epoch 00002: val_acc improved from 0.39267 to 0.45305, saving model to vgg16_1.h5\n",
      "Epoch 3/20\n",
      "156/156 [==============================] - 1386s 9s/step - loss: 1.1478 - acc: 0.4606 - val_loss: 1.0445 - val_acc: 0.5241\n",
      "\n",
      "Epoch 00003: val_acc improved from 0.45305 to 0.52412, saving model to vgg16_1.h5\n",
      "Epoch 4/20\n",
      "156/156 [==============================] - 1434s 9s/step - loss: 1.0365 - acc: 0.5333 - val_loss: 0.9061 - val_acc: 0.6124\n",
      "\n",
      "Epoch 00004: val_acc improved from 0.52412 to 0.61242, saving model to vgg16_1.h5\n",
      "Epoch 5/20\n",
      "156/156 [==============================] - 1423s 9s/step - loss: 0.9128 - acc: 0.6024 - val_loss: 0.7856 - val_acc: 0.6612\n",
      "\n",
      "Epoch 00005: val_acc improved from 0.61242 to 0.66124, saving model to vgg16_1.h5\n",
      "Epoch 6/20\n",
      "156/156 [==============================] - 1391s 9s/step - loss: 0.8048 - acc: 0.6740 - val_loss: 0.6717 - val_acc: 0.7286\n",
      "\n",
      "Epoch 00006: val_acc improved from 0.66124 to 0.72855, saving model to vgg16_1.h5\n",
      "Epoch 7/20\n",
      "156/156 [==============================] - 1388s 9s/step - loss: 0.6796 - acc: 0.7342 - val_loss: 0.6090 - val_acc: 0.7458\n",
      "\n",
      "Epoch 00007: val_acc improved from 0.72855 to 0.74584, saving model to vgg16_1.h5\n",
      "Epoch 8/20\n",
      "156/156 [==============================] - 1396s 9s/step - loss: 0.6335 - acc: 0.7409 - val_loss: 0.5932 - val_acc: 0.7464\n",
      "\n",
      "Epoch 00008: val_acc improved from 0.74584 to 0.74640, saving model to vgg16_1.h5\n",
      "Epoch 9/20\n",
      "156/156 [==============================] - 1385s 9s/step - loss: 0.5556 - acc: 0.7769 - val_loss: 0.4926 - val_acc: 0.8000\n",
      "\n",
      "Epoch 00009: val_acc improved from 0.74640 to 0.80001, saving model to vgg16_1.h5\n",
      "Epoch 10/20\n",
      "156/156 [==============================] - 1389s 9s/step - loss: 0.5255 - acc: 0.7872 - val_loss: 0.4534 - val_acc: 0.8110\n",
      "\n",
      "Epoch 00010: val_acc improved from 0.80001 to 0.81102, saving model to vgg16_1.h5\n",
      "Epoch 11/20\n",
      "156/156 [==============================] - 1389s 9s/step - loss: 0.4500 - acc: 0.8167 - val_loss: 0.4678 - val_acc: 0.8038\n",
      "\n",
      "Epoch 00011: val_acc did not improve from 0.81102\n",
      "Epoch 12/20\n",
      "156/156 [==============================] - 1383s 9s/step - loss: 0.4753 - acc: 0.8064 - val_loss: 0.5193 - val_acc: 0.7850\n",
      "\n",
      "Epoch 00012: val_acc did not improve from 0.81102\n",
      "Epoch 13/20\n",
      "156/156 [==============================] - 1388s 9s/step - loss: 0.4336 - acc: 0.8210 - val_loss: 0.3870 - val_acc: 0.8384\n",
      "\n",
      "Epoch 00013: val_acc improved from 0.81102 to 0.83841, saving model to vgg16_1.h5\n",
      "Epoch 14/20\n",
      "156/156 [==============================] - 1388s 9s/step - loss: 0.4063 - acc: 0.8317 - val_loss: 0.3863 - val_acc: 0.8390\n",
      "\n",
      "Epoch 00014: val_acc improved from 0.83841 to 0.83901, saving model to vgg16_1.h5\n",
      "Epoch 15/20\n",
      "156/156 [==============================] - 1392s 9s/step - loss: 0.3835 - acc: 0.8401 - val_loss: 0.3526 - val_acc: 0.8534\n",
      "\n",
      "Epoch 00015: val_acc improved from 0.83901 to 0.85336, saving model to vgg16_1.h5\n",
      "Epoch 16/20\n",
      "156/156 [==============================] - 1401s 9s/step - loss: 0.3693 - acc: 0.8431 - val_loss: 0.3526 - val_acc: 0.8583\n",
      "\n",
      "Epoch 00016: val_acc improved from 0.85336 to 0.85829, saving model to vgg16_1.h5\n",
      "Epoch 17/20\n",
      "156/156 [==============================] - 1390s 9s/step - loss: 0.3328 - acc: 0.8660 - val_loss: 0.3311 - val_acc: 0.8655\n",
      "\n",
      "Epoch 00017: val_acc improved from 0.85829 to 0.86548, saving model to vgg16_1.h5\n",
      "Epoch 18/20\n",
      "156/156 [==============================] - 1393s 9s/step - loss: 0.3506 - acc: 0.8559 - val_loss: 0.3118 - val_acc: 0.8669\n",
      "\n",
      "Epoch 00018: val_acc improved from 0.86548 to 0.86687, saving model to vgg16_1.h5\n",
      "Epoch 19/20\n",
      "156/156 [==============================] - 1387s 9s/step - loss: 0.3146 - acc: 0.8712 - val_loss: 0.3211 - val_acc: 0.8643\n",
      "\n",
      "Epoch 00019: val_acc did not improve from 0.86687\n",
      "Epoch 20/20\n",
      "156/156 [==============================] - 1383s 9s/step - loss: 0.3377 - acc: 0.8621 - val_loss: 0.2830 - val_acc: 0.8856\n",
      "\n",
      "Epoch 00020: val_acc improved from 0.86687 to 0.88555, saving model to vgg16_1.h5\n"
     ]
    }
   ],
   "source": [
    "history = model_final.fit_generator(\n",
    "train_generator,\n",
    "samples_per_epoch = nb_train_samples,\n",
    "epochs = epochs,\n",
    "validation_data = validation_generator,\n",
    "nb_val_samples = nb_validation_samples,\n",
    "callbacks = [checkpoint, early])"
   ]
  },
  {
   "cell_type": "code",
   "execution_count": 12,
   "metadata": {},
   "outputs": [
    {
     "data": {
      "image/png": "[encoded data removed]",
      "text/plain": [
       "<Figure size 576x432 with 1 Axes>"
      ]
     },
     "metadata": {
      "needs_background": "light"
     },
     "output_type": "display_data"
    },
    {
     "data": {
      "image/png": "[encoded data removed]",
      "text/plain": [
       "<Figure size 576x432 with 1 Axes>"
      ]
     },
     "metadata": {
      "needs_background": "light"
     },
     "output_type": "display_data"
    }
   ],
   "source": [
    "# Loss Curves\n",
    "plt.figure(figsize=[8,6]);\n",
    "plt.plot(history.history['loss'],'r',linewidth=3.0);\n",
    "plt.plot(history.history['val_loss'],'b',linewidth=3.0);\n",
    "plt.legend(['Training loss', 'Validation Loss'],fontsize=18);\n",
    "plt.xlabel('Epochs ',fontsize=16);\n",
    "plt.ylabel('Loss',fontsize=16);\n",
    "\n",
    "   \n",
    "\n",
    "# Accuracy Curves\n",
    "plt.figure(figsize=[8,6])\n",
    "plt.plot(history.history['acc'],'r',linewidth=3.0);\n",
    "plt.plot(history.history['val_acc'],'b',linewidth=3.0);\n",
    "plt.legend(['Training Accuracy', 'Validation Accuracy'],fontsize=18);\n",
    "plt.xlabel('Epochs ',fontsize=16);\n",
    "plt.ylabel('Accuracy',fontsize=16);\n"
   ]
  },
  {
   "cell_type": "code",
   "execution_count": null,
   "metadata": {},
   "outputs": [],
   "source": []
  },
  {
   "cell_type": "code",
   "execution_count": null,
   "metadata": {},
   "outputs": [],
   "source": []
  },
  {
   "cell_type": "code",
   "execution_count": null,
   "metadata": {},
   "outputs": [],
   "source": []
  },
  {
   "cell_type": "code",
   "execution_count": null,
   "metadata": {},
   "outputs": [],
   "source": []
  },
  {
   "cell_type": "code",
   "execution_count": null,
   "metadata": {},
   "outputs": [],
   "source": []
  },
  {
   "cell_type": "code",
   "execution_count": null,
   "metadata": {},
   "outputs": [],
   "source": []
  },
  {
   "cell_type": "code",
   "execution_count": null,
   "metadata": {},
   "outputs": [],
   "source": []
  },
  {
   "cell_type": "code",
   "execution_count": null,
   "metadata": {},
   "outputs": [],
   "source": []
  },
  {
   "cell_type": "code",
   "execution_count": null,
   "metadata": {},
   "outputs": [],
   "source": []
  }
 ],
 "metadata": {
  "kernelspec": {
   "display_name": "Python 3",
   "language": "python",
   "name": "python3"
  },
  "language_info": {
   "codemirror_mode": {
    "name": "ipython",
    "version": 3
   },
   "file_extension": ".py",
   "mimetype": "text/x-python",
   "name": "python",
   "nbconvert_exporter": "python",
   "pygments_lexer": "ipython3",
   "version": "3.7.3"
  }
 },
 "nbformat": 4,
 "nbformat_minor": 2
}
